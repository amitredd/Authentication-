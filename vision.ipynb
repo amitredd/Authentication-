{
  "cells": [
    {
      "cell_type": "markdown",
      "metadata": {
        "id": "view-in-github",
        "colab_type": "text"
      },
      "source": [
        "<a href=\"https://colab.research.google.com/github/amitredd/Authentication-/blob/master/vision.ipynb\" target=\"_parent\"><img src=\"https://colab.research.google.com/assets/colab-badge.svg\" alt=\"Open In Colab\"/></a>"
      ]
    },
    {
      "cell_type": "code",
      "execution_count": 1,
      "metadata": {
        "colab": {
          "base_uri": "https://localhost:8080/"
        },
        "id": "Nj1ZifbMy3FO",
        "outputId": "6334c1ba-c6bf-42da-af18-b71448877745"
      },
      "outputs": [
        {
          "output_type": "stream",
          "name": "stdout",
          "text": [
            "Looking in indexes: https://pypi.org/simple, https://us-python.pkg.dev/colab-wheels/public/simple/\n",
            "Collecting tensorflow-addons\n",
            "  Downloading tensorflow_addons-0.17.1-cp37-cp37m-manylinux_2_17_x86_64.manylinux2014_x86_64.whl (1.1 MB)\n",
            "\u001b[K     |████████████████████████████████| 1.1 MB 9.4 MB/s \n",
            "\u001b[?25hRequirement already satisfied: typeguard>=2.7 in /usr/local/lib/python3.7/dist-packages (from tensorflow-addons) (2.7.1)\n",
            "Requirement already satisfied: packaging in /usr/local/lib/python3.7/dist-packages (from tensorflow-addons) (21.3)\n",
            "Requirement already satisfied: pyparsing!=3.0.5,>=2.0.2 in /usr/local/lib/python3.7/dist-packages (from packaging->tensorflow-addons) (3.0.9)\n",
            "Installing collected packages: tensorflow-addons\n",
            "Successfully installed tensorflow-addons-0.17.1\n"
          ]
        }
      ],
      "source": [
        "!pip install -U tensorflow-addons"
      ]
    },
    {
      "cell_type": "code",
      "execution_count": 2,
      "metadata": {
        "id": "0chsWXxpy3Ho"
      },
      "outputs": [],
      "source": [
        "import numpy as np\n",
        "import tensorflow as tf\n",
        "from tensorflow import keras\n",
        "from tensorflow.keras import layers\n",
        "import tensorflow_addons as tfa\n",
        "import os  \n",
        "import matplotlib.pyplot as plt \n",
        "import cv2 \n",
        "import pickle as pickle \n",
        "from sklearn.model_selection import train_test_split\n",
        "from keras.preprocessing.image import ImageDataGenerator\n",
        "from tensorflow.python.ops.numpy_ops import np_config\n",
        "np_config.enable_numpy_behavior()\n",
        "\n"
      ]
    },
    {
      "cell_type": "code",
      "execution_count": 3,
      "metadata": {
        "colab": {
          "base_uri": "https://localhost:8080/"
        },
        "id": "7dVBTPlr1ccA",
        "outputId": "b8b4e4e5-cc78-492f-c8e0-cbd937315651"
      },
      "outputs": [
        {
          "output_type": "stream",
          "name": "stdout",
          "text": [
            "4308\n"
          ]
        }
      ],
      "source": [
        "data_dir = '/content/drive/MyDrive/flow'\n",
        "\n",
        "categories = ['daisy', 'dandelion' , 'rose', 'sunflower', 'tulip']\n",
        "\n",
        "data = []\n",
        "\n",
        "def make_data():\n",
        "    for category in categories:\n",
        "        path = os.path.join(data_dir, category)\n",
        "        label = categories.index(category)\n",
        "\n",
        "        for img_name in os.listdir(path):\n",
        "            image_path = os.path.join(path, img_name)\n",
        "            image = cv2.imread(image_path)\n",
        "\n",
        "\n",
        "            try:\n",
        "                image = cv2.cvtColor(image, cv2.COLOR_BGR2RGB)\n",
        "                image = cv2.resize(image, (32,32))\n",
        "                image = np.array(image)\n",
        "\n",
        "                data.append([image, label])\n",
        "\n",
        "            except Exception as e:\n",
        "                pass\n",
        "\n",
        "    print(len(data))\n",
        "    pik = open('flower.pickle','wb')\n",
        "    pickle.dump(data, pik)\n",
        "    pik.close()\n",
        "make_data()\n",
        "def load_data():\n",
        "    pick  = open('flower.pickle', 'rb')\n",
        "    data = pickle.load(pick)\n",
        "\n",
        "    pick.close()\n",
        "\n",
        "#np.random(data)\n",
        "\n",
        "    feature = []\n",
        "    labels = []\n",
        "\n",
        "    for img, label in data:\n",
        "        feature.append(img)\n",
        "        labels.append(label)\n",
        "\n",
        "    feature = np.array(feature, dtype = np.float32)\n",
        "    feature = feature/ 255.\n",
        "\n",
        "    labels = np.array(labels)\n",
        "\n",
        "    return [feature, labels]"
      ]
    },
    {
      "cell_type": "code",
      "execution_count": 4,
      "metadata": {
        "colab": {
          "base_uri": "https://localhost:8080/"
        },
        "id": "ptDAuNMZy3KB",
        "outputId": "4498df99-36ad-4abc-8bd8-ba10079164b7"
      },
      "outputs": [
        {
          "output_type": "stream",
          "name": "stdout",
          "text": [
            "x_train shape: (3877, 32, 32, 3) - y_train shape: (3877,)\n",
            "x_test shape: (431, 32, 32, 3) - y_test shape: (431,)\n"
          ]
        }
      ],
      "source": [
        "feature,label = load_data()\n",
        "categories = ['daisy', 'dandelion' , 'rose', 'sunflower', 'tulip']\n",
        "num_classes = 5\n",
        "input_shape = (32, 32, 3)\n",
        "\n",
        "x_train, x_test, y_train, y_test = train_test_split(feature,label,test_size=0.1,shuffle=True)\n",
        "train_dataset=tf.data.Dataset.from_tensor_slices((x_train,y_train)) \n",
        "x_train, x_test = tf.cast(x_train, tf.float32), tf.cast(x_test, tf.float32)\n",
        "print(f\"x_train shape: {x_train.shape} - y_train shape: {y_train.shape}\")\n",
        "print(f\"x_test shape: {x_test.shape} - y_test shape: {y_test.shape}\")\n"
      ]
    },
    {
      "cell_type": "code",
      "execution_count": 5,
      "metadata": {
        "id": "mNZl_MNpy3MT"
      },
      "outputs": [],
      "source": [
        "learning_rate = 0.0001\n",
        "weight_decay = 0.0001\n",
        "batch_size = 16\n",
        "num_epochs = 20\n",
        "image_size = 72  # We'll resize input images to this size\n",
        "patch_size = 6  # Size of the patches to be extract from the input images\n",
        "num_patches = (image_size // patch_size) ** 2\n",
        "projection_dim = 64\n",
        "num_heads = 4\n",
        "transformer_units = [\n",
        "    projection_dim * 2,\n",
        "    projection_dim,\n",
        "]  # Size of the transformer layers\n",
        "transformer_layers = 8\n",
        "mlp_head_units = [2048, 1024]  # Size of the dense layers of the final classifier"
      ]
    },
    {
      "cell_type": "code",
      "execution_count": 6,
      "metadata": {
        "id": "N4ssixzqy3OW"
      },
      "outputs": [],
      "source": [
        "data_augmentation = keras.Sequential(\n",
        "    [\n",
        "        layers.Normalization(),\n",
        "        layers.Resizing(image_size, image_size),\n",
        "        layers.RandomFlip(\"horizontal\"),\n",
        "        layers.RandomRotation(factor=0.02),\n",
        "        layers.RandomZoom(\n",
        "            height_factor=0.2, width_factor=0.2\n",
        "        ),\n",
        "    ],\n",
        "    name=\"data_augmentation\",\n",
        ")\n",
        "# Compute the mean and the variance of the training data for normalization.\n",
        "data_augmentation.layers[0].adapt(x_train)"
      ]
    },
    {
      "cell_type": "code",
      "execution_count": 7,
      "metadata": {
        "id": "25XF-7e3y3R3"
      },
      "outputs": [],
      "source": [
        "def mlp(x, hidden_units, dropout_rate):\n",
        "    for units in hidden_units:\n",
        "        x = layers.Dense(units, activation=tf.nn.gelu)(x)\n",
        "        x = layers.Dropout(dropout_rate)(x)\n",
        "    return x"
      ]
    },
    {
      "cell_type": "code",
      "execution_count": 8,
      "metadata": {
        "id": "Hvk8OPHBzaH-"
      },
      "outputs": [],
      "source": [
        "class Patches(layers.Layer):\n",
        "    def __init__(self, patch_size):\n",
        "        super(Patches, self).__init__()\n",
        "        self.patch_size = patch_size\n",
        "\n",
        "    def call(self, images):\n",
        "        batch_size = tf.shape(images)[0]\n",
        "        patches = tf.image.extract_patches(\n",
        "            images=images,\n",
        "            sizes=[1, self.patch_size, self.patch_size, 1],\n",
        "            strides=[1, self.patch_size, self.patch_size, 1],\n",
        "            rates=[1, 1, 1, 1],\n",
        "            padding=\"VALID\",\n",
        "        )\n",
        "        patch_dims = patches.shape[-1]\n",
        "        patches = tf.reshape(patches, [batch_size, -1, patch_dims])\n",
        "        return patches"
      ]
    },
    {
      "cell_type": "code",
      "execution_count": 9,
      "metadata": {
        "colab": {
          "base_uri": "https://localhost:8080/",
          "height": 548
        },
        "id": "n6Y0uCDrzaTb",
        "outputId": "7ab438dd-fbb4-47ab-ff07-3681acc2010e"
      },
      "outputs": [
        {
          "output_type": "stream",
          "name": "stdout",
          "text": [
            "Image size: 72 X 72\n",
            "Patch size: 6 X 6\n",
            "Patches per image: 144\n",
            "Elements per patch: 108\n"
          ]
        },
        {
          "output_type": "display_data",
          "data": {
            "text/plain": [
              "<Figure size 288x288 with 1 Axes>"
            ],
            "image/png": "[encoded data removed]"
          },
          "metadata": {
            "needs_background": "light"
          }
        },
        {
          "output_type": "display_data",
          "data": {
            "text/plain": [
              "<Figure size 288x288 with 144 Axes>"
            ],
            "image/png": "[encoded data removed]"
          },
          "metadata": {
            "needs_background": "light"
          }
        }
      ],
      "source": [
        "\n",
        "plt.figure(figsize=(4, 4))\n",
        "image = x_train[np.random.choice(range(x_train.shape[0]))]\n",
        "plt.imshow(image.astype(\"uint8\"))\n",
        "plt.axis(\"off\")\n",
        "\n",
        "resized_image = tf.image.resize(\n",
        "    tf.convert_to_tensor([image]), size=(image_size, image_size)\n",
        ")\n",
        "patches = Patches(patch_size)(resized_image)\n",
        "print(f\"Image size: {image_size} X {image_size}\")\n",
        "print(f\"Patch size: {patch_size} X {patch_size}\")\n",
        "print(f\"Patches per image: {patches.shape[1]}\")\n",
        "print(f\"Elements per patch: {patches.shape[-1]}\")\n",
        "\n",
        "n = int(np.sqrt(patches.shape[1]))\n",
        "plt.figure(figsize=(4, 4))\n",
        "for i, patch in enumerate(patches[0]):\n",
        "    ax = plt.subplot(n, n, i + 1)\n",
        "    patch_img = tf.reshape(patch, (patch_size, patch_size, 3))\n",
        "    plt.imshow(patch_img.numpy().astype(\"uint8\"))\n",
        "    plt.axis(\"off\")"
      ]
    },
    {
      "cell_type": "code",
      "execution_count": 10,
      "metadata": {
        "id": "f4ZMPkCZzaVp"
      },
      "outputs": [],
      "source": [
        "class PatchEncoder(layers.Layer):\n",
        "    def __init__(self, num_patches, projection_dim):\n",
        "        super(PatchEncoder, self).__init__()\n",
        "        self.num_patches = num_patches\n",
        "        self.projection = layers.Dense(units=projection_dim)\n",
        "        self.position_embedding = layers.Embedding(\n",
        "            input_dim=num_patches, output_dim=projection_dim\n",
        "        )\n",
        "\n",
        "    def call(self, patch):\n",
        "        positions = tf.range(start=0, limit=self.num_patches, delta=1)\n",
        "        encoded = self.projection(patch) + self.position_embedding(positions)\n",
        "        return encoded"
      ]
    },
    {
      "cell_type": "code",
      "execution_count": 11,
      "metadata": {
        "id": "KN74iaLpzaYR"
      },
      "outputs": [],
      "source": [
        "def create_vit_classifier():\n",
        "    inputs = layers.Input(shape=input_shape)\n",
        "    # Augment data.\n",
        "    augmented = data_augmentation(inputs)\n",
        "    # Create patches.\n",
        "    patches = Patches(patch_size)(augmented)\n",
        "    # Encode patches.\n",
        "    encoded_patches = PatchEncoder(num_patches, projection_dim)(patches)\n",
        "\n",
        "    # Create multiple layers of the Transformer block.\n",
        "    for _ in range(transformer_layers):\n",
        "        # Layer normalization 1.\n",
        "        x1 = layers.LayerNormalization(epsilon=1e-6)(encoded_patches)\n",
        "        # Create a multi-head attention layer.\n",
        "        attention_output = layers.MultiHeadAttention(\n",
        "            num_heads=num_heads, key_dim=projection_dim, dropout=0.1\n",
        "        )(x1, x1)\n",
        "        # Skip connection 1.\n",
        "        x2 = layers.Add()([attention_output, encoded_patches])\n",
        "        # Layer normalization 2.\n",
        "        x3 = layers.LayerNormalization(epsilon=1e-6)(x2)\n",
        "        # MLP.\n",
        "        x3 = mlp(x3, hidden_units=transformer_units, dropout_rate=0.1)\n",
        "        # Skip connection 2.\n",
        "        encoded_patches = layers.Add()([x3, x2])\n",
        "\n",
        "    # Create a [batch_size, projection_dim] tensor.\n",
        "    representation = layers.LayerNormalization(epsilon=1e-6)(encoded_patches)\n",
        "    representation = layers.Flatten()(representation)\n",
        "    representation = layers.Dropout(0.5)(representation)\n",
        "    # Add MLP.\n",
        "    features = mlp(representation, hidden_units=mlp_head_units, dropout_rate=0.5)\n",
        "    # Classify outputs.\n",
        "    logits = layers.Dense(num_classes)(features)\n",
        "    # Create the Keras model.\n",
        "    model = keras.Model(inputs=inputs, outputs=logits)\n",
        "    return model\n"
      ]
    },
    {
      "cell_type": "code",
      "execution_count": 12,
      "metadata": {
        "colab": {
          "base_uri": "https://localhost:8080/"
        },
        "id": "WKIEWNXszaa3",
        "outputId": "490e9b2b-0605-4f4a-a9fa-f64b045b3512"
      },
      "outputs": [
        {
          "output_type": "stream",
          "name": "stdout",
          "text": [
            "Epoch 1/20\n",
            "219/219 [==============================] - 33s 61ms/step - loss: 2.2795 - accuracy: 0.3236 - top-5-accuracy: 1.0000 - val_loss: 1.2827 - val_accuracy: 0.4613 - val_top-5-accuracy: 1.0000\n",
            "Epoch 2/20\n",
            "219/219 [==============================] - 15s 71ms/step - loss: 1.6004 - accuracy: 0.3852 - top-5-accuracy: 1.0000 - val_loss: 1.2474 - val_accuracy: 0.4665 - val_top-5-accuracy: 1.0000\n",
            "Epoch 3/20\n",
            "219/219 [==============================] - 14s 66ms/step - loss: 1.4123 - accuracy: 0.4311 - top-5-accuracy: 1.0000 - val_loss: 1.2236 - val_accuracy: 0.4639 - val_top-5-accuracy: 1.0000\n",
            "Epoch 4/20\n",
            "219/219 [==============================] - 12s 54ms/step - loss: 1.2975 - accuracy: 0.4804 - top-5-accuracy: 1.0000 - val_loss: 1.1985 - val_accuracy: 0.4845 - val_top-5-accuracy: 1.0000\n",
            "Epoch 5/20\n",
            "219/219 [==============================] - 11s 49ms/step - loss: 1.2084 - accuracy: 0.5168 - top-5-accuracy: 1.0000 - val_loss: 1.1186 - val_accuracy: 0.5206 - val_top-5-accuracy: 1.0000\n",
            "Epoch 6/20\n",
            "219/219 [==============================] - 11s 50ms/step - loss: 1.1632 - accuracy: 0.5291 - top-5-accuracy: 1.0000 - val_loss: 1.0689 - val_accuracy: 0.5335 - val_top-5-accuracy: 1.0000\n",
            "Epoch 7/20\n",
            "219/219 [==============================] - 11s 50ms/step - loss: 1.0683 - accuracy: 0.5615 - top-5-accuracy: 1.0000 - val_loss: 0.9893 - val_accuracy: 0.6392 - val_top-5-accuracy: 1.0000\n",
            "Epoch 8/20\n",
            "219/219 [==============================] - 10s 47ms/step - loss: 1.0186 - accuracy: 0.5959 - top-5-accuracy: 1.0000 - val_loss: 0.9984 - val_accuracy: 0.5954 - val_top-5-accuracy: 1.0000\n",
            "Epoch 9/20\n",
            "219/219 [==============================] - 10s 46ms/step - loss: 0.9405 - accuracy: 0.6343 - top-5-accuracy: 1.0000 - val_loss: 0.9292 - val_accuracy: 0.6108 - val_top-5-accuracy: 1.0000\n",
            "Epoch 11/20\n",
            "219/219 [==============================] - 11s 50ms/step - loss: 0.9107 - accuracy: 0.6463 - top-5-accuracy: 1.0000 - val_loss: 0.9206 - val_accuracy: 0.6443 - val_top-5-accuracy: 1.0000\n",
            "Epoch 12/20\n",
            "219/219 [==============================] - 10s 46ms/step - loss: 0.9003 - accuracy: 0.6435 - top-5-accuracy: 1.0000 - val_loss: 0.8976 - val_accuracy: 0.6314 - val_top-5-accuracy: 1.0000\n",
            "Epoch 13/20\n",
            "219/219 [==============================] - 10s 46ms/step - loss: 0.8530 - accuracy: 0.6727 - top-5-accuracy: 1.0000 - val_loss: 0.9518 - val_accuracy: 0.6289 - val_top-5-accuracy: 1.0000\n",
            "Epoch 14/20\n",
            "219/219 [==============================] - 11s 52ms/step - loss: 0.8410 - accuracy: 0.6655 - top-5-accuracy: 1.0000 - val_loss: 0.8744 - val_accuracy: 0.6469 - val_top-5-accuracy: 1.0000\n",
            "Epoch 15/20\n",
            "219/219 [==============================] - 11s 50ms/step - loss: 0.8246 - accuracy: 0.6810 - top-5-accuracy: 1.0000 - val_loss: 0.8856 - val_accuracy: 0.6598 - val_top-5-accuracy: 1.0000\n",
            "Epoch 16/20\n",
            "219/219 [==============================] - 11s 49ms/step - loss: 0.7980 - accuracy: 0.6945 - top-5-accuracy: 1.0000 - val_loss: 0.9212 - val_accuracy: 0.6753 - val_top-5-accuracy: 1.0000\n",
            "Epoch 17/20\n",
            "219/219 [==============================] - 10s 46ms/step - loss: 0.7718 - accuracy: 0.6993 - top-5-accuracy: 1.0000 - val_loss: 0.9505 - val_accuracy: 0.6289 - val_top-5-accuracy: 1.0000\n",
            "Epoch 18/20\n",
            "219/219 [==============================] - 10s 46ms/step - loss: 0.7683 - accuracy: 0.7019 - top-5-accuracy: 1.0000 - val_loss: 0.9098 - val_accuracy: 0.6546 - val_top-5-accuracy: 1.0000\n",
            "Epoch 19/20\n",
            "219/219 [==============================] - 11s 51ms/step - loss: 0.7550 - accuracy: 0.7031 - top-5-accuracy: 1.0000 - val_loss: 0.8643 - val_accuracy: 0.6804 - val_top-5-accuracy: 1.0000\n",
            "Epoch 20/20\n",
            "219/219 [==============================] - 10s 46ms/step - loss: 0.7251 - accuracy: 0.7214 - top-5-accuracy: 1.0000 - val_loss: 0.8585 - val_accuracy: 0.6727 - val_top-5-accuracy: 1.0000\n",
            "14/14 [==============================] - 0s 23ms/step - loss: 0.7992 - accuracy: 0.7030 - top-5-accuracy: 1.0000\n",
            "Test accuracy: 70.3%\n",
            "Test top 5 accuracy: 100.0%\n"
          ]
        }
      ],
      "source": [
        "def run_experiment(model):\n",
        "    optimizer = tfa.optimizers.AdamW(\n",
        "        learning_rate=learning_rate, weight_decay=weight_decay\n",
        "    )\n",
        "\n",
        "    model.compile(\n",
        "        optimizer=optimizer,\n",
        "        loss=keras.losses.SparseCategoricalCrossentropy(from_logits=True),\n",
        "        metrics=[\n",
        "            keras.metrics.SparseCategoricalAccuracy(name=\"accuracy\"),\n",
        "            keras.metrics.SparseTopKCategoricalAccuracy(5, name=\"top-5-accuracy\"),\n",
        "        ],\n",
        "    )\n",
        "\n",
        "    checkpoint_filepath = \"/tmp/checkpoint\"\n",
        "    checkpoint_callback = keras.callbacks.ModelCheckpoint(\n",
        "        checkpoint_filepath,\n",
        "        monitor=\"val_accuracy\",\n",
        "        save_best_only=True,\n",
        "        save_weights_only=True,\n",
        "    )\n",
        "\n",
        "    history = model.fit(\n",
        "        x=x_train,\n",
        "        y=y_train,\n",
        "        batch_size=batch_size,\n",
        "        epochs=num_epochs,\n",
        "        validation_split=0.1,\n",
        "        callbacks=[checkpoint_callback],\n",
        "    )\n",
        "\n",
        "    model.load_weights(checkpoint_filepath)\n",
        "    _, accuracy, top_5_accuracy = model.evaluate(x_test, y_test)\n",
        "    print(f\"Test accuracy: {round(accuracy * 100, 2)}%\")\n",
        "    print(f\"Test top 5 accuracy: {round(top_5_accuracy * 100, 2)}%\")\n",
        "\n",
        "    return history\n",
        "\n",
        "\n",
        "vit_classifier = create_vit_classifier()\n",
        "history = run_experiment(vit_classifier)"
      ]
    },
    {
      "cell_type": "code",
      "execution_count": 18,
      "metadata": {
        "colab": {
          "base_uri": "https://localhost:8080/"
        },
        "id": "sa664a3tLz1p",
        "outputId": "42fd48c7-6e34-4150-824c-c8dab88076cb"
      },
      "outputs": [
        {
          "output_type": "stream",
          "name": "stdout",
          "text": [
            "This image most likely belongs to tulip with a 55.63 percent confidence.\n"
          ]
        }
      ],
      "source": [
        "from keras.preprocessing import image\n",
        "img = image.load_img('/content/drive/MyDrive/tulip.jpg', target_size=(32,32,3))\n",
        "\n",
        "import tensorflow as tf\n",
        "img_array = tf.keras.utils.img_to_array(img)\n",
        "img_array = tf.expand_dims(img_array, 0)\n",
        "\n",
        "predictions =vit_classifier.predict(img_array)\n",
        "score = tf.nn.softmax(predictions[0])\n",
        "\n",
        "print(\n",
        "    \"This image most likely belongs to {} with a {:.2f} percent confidence.\"\n",
        "    .format(categories[np.argmax(score)], 100 * np.max(score))\n",
        ")"
      ]
    }
  ],
  "metadata": {
    "accelerator": "GPU",
    "colab": {
      "name": "vision.ipynb",
      "provenance": [],
      "mount_file_id": "1k6LYpUvRL3LhNrdzt2bHQvxVczVk5w_w",
      "authorship_tag": "ABX9TyMh5h8gMrNYYaLV+40P+Q/K",
      "include_colab_link": true
    },
    "gpuClass": "standard",
    "kernelspec": {
      "display_name": "Python 3",
      "name": "python3"
    },
    "language_info": {
      "name": "python"
    }
  },
  "nbformat": 4,
  "nbformat_minor": 0
}